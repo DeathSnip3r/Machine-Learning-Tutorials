{
 "cells": [
  {
   "attachments": {},
   "cell_type": "markdown",
   "metadata": {},
   "source": [
    "                                       Clustering Tutorial\n",
    "                                            COMS3007\n",
    "\n",
    "Group Members:\n",
    "\n",
    "Akshar Nana - <b>2442321</b>\n",
    "<br>Mikyle Singh - <b>2465557</b>\n",
    "<br>Sayfullah Jumoorty - <b>2430888</b>\n",
    "<br>Rayhaan Hanslod - <b>2430979</b>"
   ]
  },
  {
   "attachments": {},
   "cell_type": "markdown",
   "metadata": {},
   "source": [
    "3. We are now going to perform image colour segmentation / image compression. Load an image into your editor as a 3D matrix (the third dimension should have three values, for the red, green and blue values of each pixel). You can do this using imread() in Matlab or Python (in matplotlib in Python). You can use any image for this, or try with the one on Moodle: peppers.bmp. You can draw the image using the imshow() command.\n",
    "Submit your code for this question, as well as TWO images (one could be the peppers image, but anything is fine) with the images redrawn using 4 clusters.\n",
    "\n",
    "(a)\tLoad the image. For clustering, we don’t care about the x and y positions of each pixel: we just want to group all the colours into k clusters. The current dimension of your matrix is x × y × 3. Reshape this into a matrix that is N × 3, where N = x ∗ y is the number of pixels.\n",
    "\n",
    "(b)\tChoose k = 2.  Now run the k-means algorithm on this data as you did in the previous question. When this converges, you should have two cluster centres, and every colour is assigned to one of them. Each cluster centre is a point in 3D colour space, i.e., c1 = (r1, g1, b1) and c2 = (r2, g2, b2), which will be the average of every colour assigned to it.\n",
    "\n",
    "(c)\tNow redraw the image.   You need to take the original x*y*3, but for each (x, y) pixel,  replace its three values with the values of the appropriate cluster centre. Draw the final image using the imshow() command. If you did everything correctly, it should still resemble the original image, but only have two colours.\n",
    "\n"
   ]
  },
  {
   "cell_type": "code",
   "execution_count": 3,
   "metadata": {},
   "outputs": [
    {
     "ename": "ModuleNotFoundError",
     "evalue": "No module named 'numpy'",
     "output_type": "error",
     "traceback": [
      "\u001b[1;31m---------------------------------------------------------------------------\u001b[0m",
      "\u001b[1;31mModuleNotFoundError\u001b[0m                       Traceback (most recent call last)",
      "\u001b[1;32md:\\.COMS3007A - Machine Learning\\Tutorials\\Machine-Learning-Tutorials\\Machine-Learning-Tutorials\\Clustering\\clustering.ipynb Cell 3\u001b[0m in \u001b[0;36m1\n\u001b[1;32m----> <a href='vscode-notebook-cell:/d%3A/.COMS3007A%20-%20Machine%20Learning/Tutorials/Machine-Learning-Tutorials/Machine-Learning-Tutorials/Clustering/clustering.ipynb#W2sZmlsZQ%3D%3D?line=0'>1</a>\u001b[0m \u001b[39mimport\u001b[39;00m \u001b[39mnumpy\u001b[39;00m \u001b[39mas\u001b[39;00m \u001b[39mnp\u001b[39;00m\n\u001b[0;32m      <a href='vscode-notebook-cell:/d%3A/.COMS3007A%20-%20Machine%20Learning/Tutorials/Machine-Learning-Tutorials/Machine-Learning-Tutorials/Clustering/clustering.ipynb#W2sZmlsZQ%3D%3D?line=1'>2</a>\u001b[0m \u001b[39mimport\u001b[39;00m \u001b[39mmath\u001b[39;00m\n\u001b[0;32m      <a href='vscode-notebook-cell:/d%3A/.COMS3007A%20-%20Machine%20Learning/Tutorials/Machine-Learning-Tutorials/Machine-Learning-Tutorials/Clustering/clustering.ipynb#W2sZmlsZQ%3D%3D?line=2'>3</a>\u001b[0m \u001b[39mimport\u001b[39;00m \u001b[39mmatplotlib\u001b[39;00m\u001b[39m.\u001b[39;00m\u001b[39mpyplot\u001b[39;00m \u001b[39mas\u001b[39;00m \u001b[39mplt\u001b[39;00m\n",
      "\u001b[1;31mModuleNotFoundError\u001b[0m: No module named 'numpy'"
     ]
    }
   ],
   "source": [
    "import numpy as np\n",
    "import math\n",
    "import matplotlib.pyplot as plt\n",
    "\n",
    "# Load the image\n",
    "arrPhoto = plt.imread(\"peppers.bmp\")\n",
    "shape = arrPhoto.shape\n",
    "\n",
    "# Reshape to N*3\n",
    "x = shape[0]\n",
    "y = shape[1]\n",
    "arrPhotoReshaped = arrPhoto.reshape(x * y, shape[2])\n",
    "print('Old shape=', shape, '\\nNew shape=', arrPhotoReshaped.shape)\n",
    "plt.imshow(arrPhoto)\n",
    "\n",
    "def initCentroids(points, k):\n",
    "    centroids = points.copy()\n",
    "    np.random.shuffle(centroids)\n",
    "    return centroids[:k]\n",
    "\n",
    "def manhattan_distance(x1, x2):\n",
    "    return np.sum(np.abs(x1 - x2))\n",
    "\n",
    "def perform_kmeans(points, centroids, k):\n",
    "    num_points = points.shape[0]\n",
    "    cluster = np.empty(num_points, dtype=np.uint8)\n",
    "    for i, point in enumerate(points):\n",
    "        distances = [manhattan_distance(point, centroid) for centroid in centroids]\n",
    "        centroid_num = np.argmin(distances)\n",
    "        cluster[i] = centroid_num\n",
    "    new_centroids = np.empty_like(centroids)\n",
    "    for i in range(k):\n",
    "        cluster_points = points[cluster == i]\n",
    "        new_centroids[i] = np.mean(cluster_points, axis=0)\n",
    "    return new_centroids, cluster\n",
    "\n",
    "def plot_kmeans(k, max_iterations):\n",
    "    #Plots k-means results\n",
    "    centroids = initCentroids(arrPhotoReshaped, k)\n",
    "    centroids = centroids.reshape(k, 3)\n",
    "    print('Old centroids:\\n', centroids)\n",
    "    old_centroids = centroids.copy()\n",
    "    new_centroids, cluster = perform_kmeans(arrPhotoReshaped, centroids.copy(), k)\n",
    "    num = 0\n",
    "    print('Iterating:', end=\"\")\n",
    "    while not np.array_equal(old_centroids, new_centroids) and num < max_iterations:\n",
    "        num += 1\n",
    "        print(num, end=\"...\")\n",
    "        old_centroids = new_centroids.copy()\n",
    "        new_centroids, cluster = perform_kmeans(arrPhotoReshaped, old_centroids.copy(), k)\n",
    "    print('New centroids:\\n', new_centroids)\n",
    "    num_elements = arrPhotoReshaped.shape[0]\n",
    "    new_arr = new_centroids[cluster].reshape(x, y, 3).astype(np.uint8)\n",
    "    plt.imshow(new_arr, interpolation='nearest')\n",
    "    plt.show()\n",
    "\n",
    "plot_kmeans(2, 5)\n",
    "\n"
   ]
  },
  {
   "attachments": {},
   "cell_type": "markdown",
   "metadata": {},
   "source": [
    "(d)\tRepeat this process for k = {4, 8, 16, 32, 64}. What do you notice?"
   ]
  },
  {
   "cell_type": "code",
   "execution_count": null,
   "metadata": {},
   "outputs": [],
   "source": [
    "# Perform k-means algorithm for different values of k\n",
    "plot_kmeans(4, 5)\n",
    "plot_kmeans(8, 5)\n",
    "plot_kmeans(16, 2)\n",
    "plot_kmeans(32, 2)\n",
    "plot_kmeans(64, 2)"
   ]
  },
  {
   "attachments": {},
   "cell_type": "markdown",
   "metadata": {},
   "source": [
    "As the values of k increases, the image becomes more recognizable in comparison to the original image since a greater variance of colors are used. However for each iteration and k value of the k-means algorithm, the computational time is much longer."
   ]
  },
  {
   "attachments": {},
   "cell_type": "markdown",
   "metadata": {},
   "source": [
    "Repeat the process for a new image"
   ]
  },
  {
   "cell_type": "code",
   "execution_count": 2,
   "metadata": {},
   "outputs": [
    {
     "ename": "NameError",
     "evalue": "name 'plt' is not defined",
     "output_type": "error",
     "traceback": [
      "\u001b[1;31m---------------------------------------------------------------------------\u001b[0m",
      "\u001b[1;31mNameError\u001b[0m                                 Traceback (most recent call last)",
      "\u001b[1;32md:\\.COMS3007A - Machine Learning\\Tutorials\\Machine-Learning-Tutorials\\Machine-Learning-Tutorials\\Clustering\\clustering.ipynb Cell 5\u001b[0m in \u001b[0;36m2\n\u001b[0;32m      <a href='vscode-notebook-cell:/d%3A/.COMS3007A%20-%20Machine%20Learning/Tutorials/Machine-Learning-Tutorials/Machine-Learning-Tutorials/Clustering/clustering.ipynb#W4sZmlsZQ%3D%3D?line=0'>1</a>\u001b[0m \u001b[39m# Load the image\u001b[39;00m\n\u001b[1;32m----> <a href='vscode-notebook-cell:/d%3A/.COMS3007A%20-%20Machine%20Learning/Tutorials/Machine-Learning-Tutorials/Machine-Learning-Tutorials/Clustering/clustering.ipynb#W4sZmlsZQ%3D%3D?line=1'>2</a>\u001b[0m arrPhoto \u001b[39m=\u001b[39m plt\u001b[39m.\u001b[39mimread(\u001b[39m\"\u001b[39m\u001b[39mapple_logo.bmp\u001b[39m\u001b[39m\"\u001b[39m)\n\u001b[0;32m      <a href='vscode-notebook-cell:/d%3A/.COMS3007A%20-%20Machine%20Learning/Tutorials/Machine-Learning-Tutorials/Machine-Learning-Tutorials/Clustering/clustering.ipynb#W4sZmlsZQ%3D%3D?line=2'>3</a>\u001b[0m shape \u001b[39m=\u001b[39m arrPhoto\u001b[39m.\u001b[39mshape\n\u001b[0;32m      <a href='vscode-notebook-cell:/d%3A/.COMS3007A%20-%20Machine%20Learning/Tutorials/Machine-Learning-Tutorials/Machine-Learning-Tutorials/Clustering/clustering.ipynb#W4sZmlsZQ%3D%3D?line=4'>5</a>\u001b[0m \u001b[39m# Reshape to N*3\u001b[39;00m\n",
      "\u001b[1;31mNameError\u001b[0m: name 'plt' is not defined"
     ]
    }
   ],
   "source": [
    "# Load the image\n",
    "arrPhoto = plt.imread(\"apple_logo.bmp\")\n",
    "shape = arrPhoto.shape\n",
    "\n",
    "# Reshape to N*3\n",
    "x = shape[0]\n",
    "y = shape[1]\n",
    "arrPhotoReshaped = arrPhoto.reshape(x * y, shape[2])\n",
    "print('Old shape=', shape, '\\nNew shape=', arrPhotoReshaped.shape)\n",
    "plt.imshow(arrPhoto)\n",
    "\n",
    "plot_kmeans(2, 5)\n",
    "plot_kmeans(4, 5)\n",
    "plot_kmeans(8, 5)\n",
    "plot_kmeans(16, 2)\n",
    "plot_kmeans(32, 2)\n",
    "plot_kmeans(64, 2)"
   ]
  }
 ],
 "metadata": {
  "kernelspec": {
   "display_name": "base",
   "language": "python",
   "name": "python3"
  },
  "language_info": {
   "codemirror_mode": {
    "name": "ipython",
    "version": 3
   },
   "file_extension": ".py",
   "mimetype": "text/x-python",
   "name": "python",
   "nbconvert_exporter": "python",
   "pygments_lexer": "ipython3",
   "version": "3.10.8"
  },
  "orig_nbformat": 4
 },
 "nbformat": 4,
 "nbformat_minor": 2
}
