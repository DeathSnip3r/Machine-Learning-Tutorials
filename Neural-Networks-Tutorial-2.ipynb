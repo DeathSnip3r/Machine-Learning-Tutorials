{
 "cells": [
  {
   "attachments": {},
   "cell_type": "markdown",
   "metadata": {},
   "source": [
    "2. As in the logistic regression tut, we will generate our own data to train a neural network. This time, we will generate data in the region [0, 1]^2 with a complicated decision boundary. In python, perform the following tasks:\n",
    "\n",
    "(a)\tDefine the function f (x) = x^2 sin(2πx) + 0.7.\n",
    "\n",
    "(b)\tGenerate a uniform random point (x1, x2) = [0, 1]^2. Associate with this point the class 0 if f (x1) > x2, and class 1 otherwise.\n",
    "\n",
    "(c)\tGenerate 100 points in this way. Plot them with different symbols for the two classes."
   ]
  },
  {
   "cell_type": "code",
   "execution_count": 25,
   "metadata": {},
   "outputs": [
    {
     "data": {
      "image/png": "[encoded data removed]",
      "text/plain": [
       "<Figure size 432x288 with 1 Axes>"
      ]
     },
     "metadata": {
      "needs_background": "light"
     },
     "output_type": "display_data"
    }
   ],
   "source": [
    "import numpy as np\n",
    "import matplotlib.pyplot as plt\n",
    "\n",
    "#function f(x)\n",
    "def f(x):\n",
    "    return x**2 * np.sin(2*np.pi*x) + 0.7\n",
    "\n",
    "#generate uniform random points and assign classes\n",
    "points = []\n",
    "for i in range(100):\n",
    "    x1 = np.random.uniform(0, 1)\n",
    "    x2 = np.random.uniform(0, 1)\n",
    "    if f(x1) > x2:\n",
    "        points.append((x1, x2, 0))\n",
    "    else:\n",
    "        points.append((x1, x2, 1))\n",
    "\n",
    "#plot the two classes\n",
    "for point in points:\n",
    "    if point[2] == 0:\n",
    "        class0, = plt.plot(point[0], point[1], 'ro')\n",
    "    else:\n",
    "        class1, = plt.plot(point[0], point[1], 'b^')\n",
    "plt.legend([class0, class1], [\"Class 0\", \"Class 1\"])\n",
    "plt.show()\n"
   ]
  },
  {
   "attachments": {},
   "cell_type": "markdown",
   "metadata": {},
   "source": []
  }
 ],
 "metadata": {
  "kernelspec": {
   "display_name": "base",
   "language": "python",
   "name": "python3"
  },
  "language_info": {
   "codemirror_mode": {
    "name": "ipython",
    "version": 3
   },
   "file_extension": ".py",
   "mimetype": "text/x-python",
   "name": "python",
   "nbconvert_exporter": "python",
   "pygments_lexer": "ipython3",
   "version": "3.9.12"
  },
  "orig_nbformat": 4
 },
 "nbformat": 4,
 "nbformat_minor": 2
}
