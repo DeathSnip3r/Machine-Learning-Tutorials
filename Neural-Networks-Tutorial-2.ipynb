{
 "cells": [
  {
   "attachments": {},
   "cell_type": "markdown",
   "metadata": {},
   "source": [
    "2. As in the logistic regression tut, we will generate our own data to train a neural network. This time, we will generate data in the region [0, 1]^2 with a complicated decision boundary. In python, perform the following tasks:\n",
    "\n",
    "(a)\tDefine the function f (x) = x^2 sin(2πx) + 0.7.\n",
    "\n",
    "(b)\tGenerate a uniform random point (x1, x2) = [0, 1]^2. Associate with this point the class 0 if f (x1) > x2, and class 1 otherwise.\n",
    "\n",
    "(c)\tGenerate 100 points in this way. Plot them with different symbols for the two classes."
   ]
  },
  {
   "cell_type": "code",
   "execution_count": 51,
   "metadata": {},
   "outputs": [
    {
     "data": {
      "image/png": "[encoded data removed]",
      "text/plain": [
       "<Figure size 432x288 with 1 Axes>"
      ]
     },
     "metadata": {
      "needs_background": "light"
     },
     "output_type": "display_data"
    }
   ],
   "source": [
    "import numpy as np\n",
    "import matplotlib.pyplot as plt\n",
    "\n",
    "#function f(x)\n",
    "def f(x):\n",
    "    return x**2 * np.sin(2*np.pi*x) + 0.7\n",
    "\n",
    "#generate uniform random points and assign classes\n",
    "n_points = 100\n",
    "x1 = np.random.uniform(0, 1, n_points)\n",
    "x2 = np.random.uniform(0, 1, n_points)\n",
    "y = (f(x1) > x2).astype(int)\n",
    "points = np.column_stack((x1, x2, y))\n",
    "\n",
    "#plot the two classes\n",
    "class0 = points[points[:, 2] == 0]\n",
    "class1 = points[points[:, 2] == 1]\n",
    "plt.scatter(class0[:, 0], class0[:, 1], color='red', label='Class 0')\n",
    "plt.scatter(class1[:, 0], class1[:, 1], color='blue', label='Class 1')\n",
    "plt.legend()\n",
    "plt.show()"
   ]
  },
  {
   "attachments": {},
   "cell_type": "markdown",
   "metadata": {},
   "source": [
    "3. For this question, use the dataset you generated for question 2 above. We are now going to train a neural network model to classify this data.\n",
    "\n",
    "(a)\tFirst we need to choose an architecture for the network. This data is 2D, in x1 and x2. We therefore need two input parameters for the model, and one output variable. It is a classification problem, so we can choose the final activation function to be a sigmoid. We know the decision boundary is non-linear because we made the data – otherwise we may need to visualise some of it to figure this out, and so we need at least one hidden layer. Let’s use three nodes on the hidden layer, and sigmoids for all activation functions.\n",
    "\n",
    "(b)\tImplement forward propagation for this network. Do this is a vectorised way, so we can generalise to different architectures. For any input vector, we need a vector of activations at every layer.\n",
    "\n",
    "(c)\tNow compute the error δ at the final layer as the difference between the final activation and the target.\n",
    "\n",
    "(d)\tMoving backwards through the layers, compute the δ of each layer (in this case this would just be for the hidden layer).\n",
    "\n",
    "(e)\tGiven the activations and δs, compute the gradients for each parameter. \n",
    "\n",
    "(f) Finally, perform a weight update. Use the learning rate of α = 0.1.\n",
    "\n",
    "(g)\tRepeat the update in a loop. Technically there are two nested loops: for each epoch (iteration of the outer loop) we run through all our data points and update the weights. We then usually use two terminating conditions on the outer loop: the first is to look at the normed difference between the parameter vector between two successive iterations and we terminate when this is small, i.e. ||θnew - θold|| < ϵ, with ϵ = 0.05. We also usually set a maximum number of epochs, e.g. 1000, just in case. Run the learning until convergence. What is the error on the training data?\n",
    "\n",
    "(h)\tGenerate 100 more datapoints from the procedure in question 2. This will be our validation data. Classify them using your trained model and tabulate the results in a confusion matrix. Compare the error on the training data to the error on the validation data. What do you notice?\n",
    "\n",
    "(i)\tChange the hyperparameters. Before, we considered changing the learning rate α and termination threshold ϵ. Now try add another node or two to the hidden layer, and even add in a second hidden layer. For each different setting of the hyperparameters, retrain your model on the training data and evaluate it on the validation data.\n",
    "\n",
    "(j)\tKeep the best values of your hyperparameters. Now generate 100 more datapoints. This will be our testing data. Classify them using your trained model and tabulate the results in a confusion matrix. This is the final performance of the classifier with optimised hyperparameters!\n",
    "\n",
    "(k)\tWhy is it important to have the three data sets: training, validation, and testing?"
   ]
  }
 ],
 "metadata": {
  "kernelspec": {
   "display_name": "base",
   "language": "python",
   "name": "python3"
  },
  "language_info": {
   "codemirror_mode": {
    "name": "ipython",
    "version": 3
   },
   "file_extension": ".py",
   "mimetype": "text/x-python",
   "name": "python",
   "nbconvert_exporter": "python",
   "pygments_lexer": "ipython3",
   "version": "3.9.12"
  },
  "orig_nbformat": 4
 },
 "nbformat": 4,
 "nbformat_minor": 2
}
