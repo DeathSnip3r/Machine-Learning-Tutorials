{
 "cells": [
  {
   "attachments": {},
   "cell_type": "markdown",
   "metadata": {},
   "source": [
    "2. As in the logistic regression tut, we will generate our own data to train a neural network. This time, we will generate data in the region [0, 1]^2 with a complicated decision boundary. In python, perform the following tasks:\n",
    "\n",
    "(a)\tDefine the function f (x) = x^2 sin(2πx) + 0.7.\n",
    "\n",
    "(b)\tGenerate a uniform random point (x1, x2) = [0, 1]^2. Associate with this point the class 0 if f (x1) > x2, and class 1 otherwise.\n",
    "\n",
    "(c)\tGenerate 100 points in this way. Plot them with different symbols for the two classes."
   ]
  },
  {
   "cell_type": "code",
   "execution_count": 13,
   "metadata": {},
   "outputs": [
    {
     "data": {
      "image/png": "[encoded data removed]",
      "text/plain": [
       "<Figure size 432x288 with 1 Axes>"
      ]
     },
     "metadata": {
      "needs_background": "light"
     },
     "output_type": "display_data"
    }
   ],
   "source": [
    "import numpy as np\n",
    "import matplotlib.pyplot as plt\n",
    "\n",
    "#function f(x)\n",
    "def f(x):\n",
    "    return x**2 * np.sin(2*np.pi*x) + 0.7\n",
    "\n",
    "#generate uniform random points and assign classes\n",
    "n_points = 100\n",
    "x1 = np.random.uniform(0, 1, n_points)\n",
    "x2 = np.random.uniform(0, 1, n_points)\n",
    "y = (f(x1) > x2).astype(int)\n",
    "points = np.column_stack((x1, x2, y))\n",
    "\n",
    "#plot the two classes\n",
    "class0 = points[points[:, 2] == 0]\n",
    "class1 = points[points[:, 2] == 1]\n",
    "plt.scatter(class0[:, 0], class0[:, 1], color='red', label='Class 0')\n",
    "plt.scatter(class1[:, 0], class1[:, 1], color='blue', label='Class 1')\n",
    "plt.legend()\n",
    "plt.show()"
   ]
  },
  {
   "attachments": {},
   "cell_type": "markdown",
   "metadata": {},
   "source": [
    "3. For this question, use the dataset you generated for question 2 above. We are now going to train a neural network model to classify this data.\n",
    "\n",
    "(a)\tFirst we need to choose an architecture for the network. This data is 2D, in x1 and x2. We therefore need two input parameters for the model, and one output variable. It is a classification problem, so we can choose the final activation function to be a sigmoid. We know the decision boundary is non-linear because we made the data – otherwise we may need to visualise some of it to figure this out, and so we need at least one hidden layer. Let’s use three nodes on the hidden layer, and sigmoids for all activation functions."
   ]
  },
  {
   "cell_type": "code",
   "execution_count": 53,
   "metadata": {},
   "outputs": [],
   "source": [
    "# Define the neural network architecture\n",
    "input_size = 2\n",
    "hidden_size = 3\n",
    "output_size = 1\n",
    "\n",
    "# Initialize the weights randomly\n",
    "W1 = np.random.randn(input_size, hidden_size)\n",
    "W2 = np.random.randn(hidden_size, output_size)\n",
    "\n",
    "# Define the activation function\n",
    "def sigmoid(x):\n",
    "    return 1 / (1 + np.exp(-x))"
   ]
  },
  {
   "attachments": {},
   "cell_type": "markdown",
   "metadata": {},
   "source": [
    "(b)\tImplement forward propagation for this network. Do this is a vectorised way, so we can generalise to different architectures. For any input vector, we need a vector of activations at every layer."
   ]
  },
  {
   "cell_type": "code",
   "execution_count": 54,
   "metadata": {},
   "outputs": [],
   "source": [
    "# Forward propagation\n",
    "def forward(X):\n",
    "    # Calculate the dot product of the input layer with the weights of the hidden layer\n",
    "    hidden_layer = sigmoid(np.dot(X, W1))\n",
    "    # Calculate the dot product of the hidden layer with the weights of the output layer\n",
    "    output_layer = sigmoid(np.dot(hidden_layer, W2))\n",
    "    return output_layer, hidden_layer"
   ]
  },
  {
   "attachments": {},
   "cell_type": "markdown",
   "metadata": {},
   "source": [
    "(c)\tNow compute the error δ at the final layer as the difference between the final activation and the target."
   ]
  },
  {
   "cell_type": "code",
   "execution_count": 55,
   "metadata": {},
   "outputs": [],
   "source": [
    "# Compute the error\n",
    "def compute_error(output_layer, y):\n",
    "    error = y - output_layer\n",
    "    return error"
   ]
  },
  {
   "attachments": {},
   "cell_type": "markdown",
   "metadata": {},
   "source": [
    "(d)\tMoving backwards through the layers, compute the δ of each layer (in this case this would just be for the hidden layer)."
   ]
  },
  {
   "cell_type": "code",
   "execution_count": 56,
   "metadata": {},
   "outputs": [],
   "source": [
    "# Compute the delta of the hidden layer\n",
    "def compute_delta_hidden(error, hidden_layer):\n",
    "    delta_hidden = np.dot(error, W2.T) * hidden_layer * (1 - hidden_layer)\n",
    "    return delta_hidden"
   ]
  },
  {
   "attachments": {},
   "cell_type": "markdown",
   "metadata": {},
   "source": [
    "(e)\tGiven the activations and δ's, compute the gradients for each parameter. "
   ]
  },
  {
   "attachments": {},
   "cell_type": "markdown",
   "metadata": {},
   "source": [
    "(f) Finally, perform a weight update. Use the learning rate of α = 0.1."
   ]
  },
  {
   "attachments": {},
   "cell_type": "markdown",
   "metadata": {},
   "source": [
    "(g)\tRepeat the update in a loop. Technically there are two nested loops: for each epoch (iteration of the outer loop) we run through all our data points and update the weights. We then usually use two terminating conditions on the outer loop: the first is to look at the normed difference between the parameter vector between two successive iterations and we terminate when this is small, i.e. ||θnew - θold|| < ϵ, with ϵ = 0.05. We also usually set a maximum number of epochs, e.g. 1000, just in case. Run the learning until convergence. What is the error on the training data?"
   ]
  },
  {
   "cell_type": "code",
   "execution_count": 57,
   "metadata": {},
   "outputs": [
    {
     "ename": "ValueError",
     "evalue": "all the input array dimensions for the concatenation axis must match exactly, but along dimension 0, the array at index 0 has size 2 and the array at index 1 has size 3",
     "output_type": "error",
     "traceback": [
      "\u001b[1;31m---------------------------------------------------------------------------\u001b[0m",
      "\u001b[1;31mValueError\u001b[0m                                Traceback (most recent call last)",
      "\u001b[1;32mi:\\.COMS3007A - Machine Learning\\Tutorials\\Machine-Learning-Tutorials\\Machine-Learning-Tutorials\\Neural-Networks-Tutorial-2.ipynb Cell 14\u001b[0m in \u001b[0;36m<cell line: 17>\u001b[1;34m()\u001b[0m\n\u001b[0;32m     <a href='vscode-notebook-cell:/i%3A/.COMS3007A%20-%20Machine%20Learning/Tutorials/Machine-Learning-Tutorials/Machine-Learning-Tutorials/Neural-Networks-Tutorial-2.ipynb#X25sZmlsZQ%3D%3D?line=39'>40</a>\u001b[0m W1 \u001b[39m+\u001b[39m\u001b[39m=\u001b[39m learning_rate \u001b[39m*\u001b[39m dW1\n\u001b[0;32m     <a href='vscode-notebook-cell:/i%3A/.COMS3007A%20-%20Machine%20Learning/Tutorials/Machine-Learning-Tutorials/Machine-Learning-Tutorials/Neural-Networks-Tutorial-2.ipynb#X25sZmlsZQ%3D%3D?line=40'>41</a>\u001b[0m \u001b[39m# Compute the normed difference\u001b[39;00m\n\u001b[1;32m---> <a href='vscode-notebook-cell:/i%3A/.COMS3007A%20-%20Machine%20Learning/Tutorials/Machine-Learning-Tutorials/Machine-Learning-Tutorials/Neural-Networks-Tutorial-2.ipynb#X25sZmlsZQ%3D%3D?line=41'>42</a>\u001b[0m normed_difference \u001b[39m=\u001b[39m np\u001b[39m.\u001b[39mlinalg\u001b[39m.\u001b[39mnorm(np\u001b[39m.\u001b[39;49mhstack((dW1, dW2)))\n\u001b[0;32m     <a href='vscode-notebook-cell:/i%3A/.COMS3007A%20-%20Machine%20Learning/Tutorials/Machine-Learning-Tutorials/Machine-Learning-Tutorials/Neural-Networks-Tutorial-2.ipynb#X25sZmlsZQ%3D%3D?line=42'>43</a>\u001b[0m \u001b[39m# Print the error and the normed difference\u001b[39;00m\n\u001b[0;32m     <a href='vscode-notebook-cell:/i%3A/.COMS3007A%20-%20Machine%20Learning/Tutorials/Machine-Learning-Tutorials/Machine-Learning-Tutorials/Neural-Networks-Tutorial-2.ipynb#X25sZmlsZQ%3D%3D?line=43'>44</a>\u001b[0m \u001b[39mprint\u001b[39m(\u001b[39mf\u001b[39m\u001b[39m\"\u001b[39m\u001b[39mEpoch \u001b[39m\u001b[39m{\u001b[39;00mepoch\u001b[39m}\u001b[39;00m\u001b[39m, error \u001b[39m\u001b[39m{\u001b[39;00mtotal_error[\u001b[39m0\u001b[39m][\u001b[39m0\u001b[39m]\u001b[39m}\u001b[39;00m\u001b[39m, normed difference \u001b[39m\u001b[39m{\u001b[39;00mnormed_difference\u001b[39m}\u001b[39;00m\u001b[39m\"\u001b[39m)\n",
      "File \u001b[1;32m<__array_function__ internals>:5\u001b[0m, in \u001b[0;36mhstack\u001b[1;34m(*args, **kwargs)\u001b[0m\n",
      "File \u001b[1;32mc:\\Users\\USER-PC\\Anaconda3\\lib\\site-packages\\numpy\\core\\shape_base.py:345\u001b[0m, in \u001b[0;36mhstack\u001b[1;34m(tup)\u001b[0m\n\u001b[0;32m    343\u001b[0m     \u001b[39mreturn\u001b[39;00m _nx\u001b[39m.\u001b[39mconcatenate(arrs, \u001b[39m0\u001b[39m)\n\u001b[0;32m    344\u001b[0m \u001b[39melse\u001b[39;00m:\n\u001b[1;32m--> 345\u001b[0m     \u001b[39mreturn\u001b[39;00m _nx\u001b[39m.\u001b[39;49mconcatenate(arrs, \u001b[39m1\u001b[39;49m)\n",
      "File \u001b[1;32m<__array_function__ internals>:5\u001b[0m, in \u001b[0;36mconcatenate\u001b[1;34m(*args, **kwargs)\u001b[0m\n",
      "\u001b[1;31mValueError\u001b[0m: all the input array dimensions for the concatenation axis must match exactly, but along dimension 0, the array at index 0 has size 2 and the array at index 1 has size 3"
     ]
    }
   ],
   "source": [
    "# Set the learning rate\n",
    "learning_rate = 0.1\n",
    "\n",
    "# Set the maximum number of epochs and the convergence threshold\n",
    "max_epochs = 1000\n",
    "convergence_threshold = 0.05\n",
    "\n",
    "# Initialize the epoch counter and the normed difference\n",
    "epoch = 0\n",
    "normed_difference = 1\n",
    "\n",
    "# Get the input data and target\n",
    "X = points[:, :2]\n",
    "y = points[:, 2].reshape(-1, 1)\n",
    "\n",
    "# Train the neural network\n",
    "while epoch < max_epochs and normed_difference > convergence_threshold:\n",
    "    # Initialize the gradients\n",
    "    dW1 = np.zeros_like(W1)\n",
    "    dW2 = np.zeros_like(W2)\n",
    "    # Initialize the total error\n",
    "    total_error = 0\n",
    "    # Iterate over all data points\n",
    "    for i in range(len(X)):\n",
    "        # Forward propagation\n",
    "        output_layer, hidden_layer = forward(X[i].reshape(1, -1))\n",
    "        # Compute the error\n",
    "        error = compute_error(output_layer, y[i])\n",
    "        # Compute the delta of the output layer\n",
    "        delta_output = error * output_layer * (1 - output_layer)\n",
    "        # Compute the delta of the hidden layer\n",
    "        delta_hidden = compute_delta_hidden(delta_output, hidden_layer)\n",
    "        # Compute the gradients\n",
    "        dW2 += np.dot(hidden_layer.T, delta_output)\n",
    "        dW1 += np.dot(X[i].reshape(1, -1).T, delta_hidden)\n",
    "        # Update the total error\n",
    "        total_error += np.abs(error)\n",
    "    # Update the weights\n",
    "    W2 += learning_rate * dW2\n",
    "    W1 += learning_rate * dW1\n",
    "    # Compute the normed difference\n",
    "    normed_difference = np.linalg.norm(np.hstack((dW1, dW2)))\n",
    "    # Print the error and the normed difference\n",
    "    print(f\"Epoch {epoch}, error {total_error[0][0]}, normed difference {normed_difference}\")\n",
    "    # Increment the epoch counter\n",
    "    epoch += 1\n",
    "\n",
    "# Compute the output of the neural network for all data points\n",
    "output, _ = forward(X)\n",
    "\n",
    "# Compute the error on the training data\n",
    "error = np.abs(y - output).mean()\n",
    "print(f\"Error on the training data: {error}\")"
   ]
  },
  {
   "attachments": {},
   "cell_type": "markdown",
   "metadata": {},
   "source": [
    "(h)\tGenerate 100 more datapoints from the procedure in question 2. This will be our validation data. Classify them using your trained model and tabulate the results in a confusion matrix. Compare the error on the training data to the error on the validation data. What do you notice?"
   ]
  },
  {
   "cell_type": "code",
   "execution_count": null,
   "metadata": {},
   "outputs": [],
   "source": [
    "# Generate validation data\n",
    "n_val_points = 100\n",
    "x1_val = np.random.uniform(0, 1, n_val_points)\n",
    "x2_val = np.random.uniform(0, 1, n_val_points)\n",
    "y_val = (f(x1_val) > x2_val).astype(int)\n",
    "points_val = np.column_stack((x1_val, x2_val, y_val))\n",
    "\n",
    "# Compute predictions on validation data\n",
    "X_val = points_val[:, :2]\n",
    "y_val_pred = forward(X_val, weights)[1][-1] > 0.5\n",
    "y_val_true = points_val[:, -1]\n",
    "\n",
    "# Compute confusion matrix on validation data\n",
    "confusion_matrix_val = confusion_matrix(y_val_true, y_val_pred)\n",
    "print(\"Confusion matrix on validation data:\")\n",
    "print(confusion_matrix_val)\n"
   ]
  },
  {
   "attachments": {},
   "cell_type": "markdown",
   "metadata": {},
   "source": [
    "(i)\tChange the hyperparameters. Before, we considered changing the learning rate α and termination threshold ϵ. Now try add another node or two to the hidden layer, and even add in a second hidden layer. For each different setting of the hyperparameters, retrain your model on the training data and evaluate it on the validation data."
   ]
  },
  {
   "attachments": {},
   "cell_type": "markdown",
   "metadata": {},
   "source": [
    "(j)\tKeep the best values of your hyperparameters. Now generate 100 more datapoints. This will be our testing data. Classify them using your trained model and tabulate the results in a confusion matrix. This is the final performance of the classifier with optimised hyperparameters!"
   ]
  },
  {
   "attachments": {},
   "cell_type": "markdown",
   "metadata": {},
   "source": [
    "(k)\tWhy is it important to have the three data sets: training, validation, and testing?"
   ]
  }
 ],
 "metadata": {
  "kernelspec": {
   "display_name": "base",
   "language": "python",
   "name": "python3"
  },
  "language_info": {
   "codemirror_mode": {
    "name": "ipython",
    "version": 3
   },
   "file_extension": ".py",
   "mimetype": "text/x-python",
   "name": "python",
   "nbconvert_exporter": "python",
   "pygments_lexer": "ipython3",
   "version": "3.9.12"
  },
  "orig_nbformat": 4
 },
 "nbformat": 4,
 "nbformat_minor": 2
}
