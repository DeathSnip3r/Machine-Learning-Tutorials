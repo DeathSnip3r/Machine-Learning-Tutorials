{
 "cells": [
  {
   "cell_type": "code",
   "execution_count": 1,
   "id": "2fba7c87",
   "metadata": {},
   "outputs": [],
   "source": [
    "import matplotlib.pyplot as plt\n",
    "import seaborn as sns\n",
    "import numpy as np"
   ]
  },
  {
   "cell_type": "code",
   "execution_count": 2,
   "id": "2c13c526",
   "metadata": {},
   "outputs": [],
   "source": [
    "def error(x,y,yhat,N):\n",
    "    for i in range(N):\n",
    "        sum =+ (yhat(x[i]) - y[i])**2\n",
    "    err = sum * 0.5\n",
    "    return err\n",
    "\n",
    "def error_single(x,y,yhat):\n",
    "    value =  0.5 * (yhat(x) - y)**2\n",
    "    return value"
   ]
  },
  {
   "cell_type": "code",
   "execution_count": 3,
   "id": "71f9863e",
   "metadata": {},
   "outputs": [
    {
     "name": "stdout",
     "output_type": "stream",
     "text": [
      "x = 1: 0.020000000000000035\n",
      "x = 2: 0.5\n",
      "Whole Model for y = 0.4 + 0.8x: Error = 0.1799999999999998\n"
     ]
    }
   ],
   "source": [
    "x = [1,2,3,4,5]\n",
    "y= [1,3,2,3,5]\n",
    "\n",
    "yhat = lambda x: 0.4 + 0.8*x\n",
    "print(\"x = 1: {}\".format(error_single(x[0],y[0],yhat)))\n",
    "print(\"x = 2: {}\".format(error_single(x[1],y[1],yhat)))\n",
    "print(\"Whole Model for y = 0.4 + 0.8x: Error = {}\".format(error(x,y,yhat,len(x))))"
   ]
  },
  {
   "cell_type": "code",
   "execution_count": 4,
   "id": "b1ef53de",
   "metadata": {},
   "outputs": [
    {
     "name": "stdout",
     "output_type": "stream",
     "text": [
      "x = 1: 0.0\n",
      "x = 2: 0.5\n",
      "Whole Model for y = x: Error = 0.0\n"
     ]
    }
   ],
   "source": [
    "yhat2 = lambda x: x\n",
    "print(\"x = 1: {}\".format(error_single(x[0],y[0],yhat2)))\n",
    "print(\"x = 2: {}\".format(error_single(x[1],y[1],yhat2)))\n",
    "print(\"Whole Model for y = x: Error = {}\".format(error(x,y,yhat2,len(x))))"
   ]
  },
  {
   "cell_type": "code",
   "execution_count": 5,
   "id": "4a39c7b6",
   "metadata": {},
   "outputs": [
    {
     "name": "stdout",
     "output_type": "stream",
     "text": [
      "Whole Model for y = 1 + 2*x: Error = 18.0\n"
     ]
    }
   ],
   "source": [
    "yhat3 = lambda x: 1 + 2*x\n",
    "print(\"Whole Model for y = 1 + 2*x: Error = {}\".format(error(x,y,yhat3,len(x))))"
   ]
  },
  {
   "cell_type": "code",
   "execution_count": 6,
   "id": "fe993aac",
   "metadata": {},
   "outputs": [
    {
     "data": {
      "image/png": "[encoded data removed]",
      "text/plain": [
       "<Figure size 432x288 with 1 Axes>"
      ]
     },
     "metadata": {
      "needs_background": "light"
     },
     "output_type": "display_data"
    }
   ],
   "source": [
    "plt.plot(x,y,'o')\n",
    "y1 = [yhat(i) for i in x]\n",
    "y2 = [yhat2(i) for i in x]\n",
    "y3 = [yhat3(i) for i in x]\n",
    "plt.plot(x,y1,label=\"y = 0.4 + 0.8x\", color=\"Red\")\n",
    "plt.plot(x,y2,label=\"y = x\", color=\"Black\")\n",
    "plt.plot(x,y3,label=\"y = 1 + 2x\", color=\"Blue\")\n",
    "plt.legend()\n",
    "plt.show()"
   ]
  },
  {
   "cell_type": "code",
   "execution_count": 7,
   "id": "146a1e82",
   "metadata": {},
   "outputs": [
    {
     "name": "stdout",
     "output_type": "stream",
     "text": [
      "Prediction for y = 6: 6\n"
     ]
    }
   ],
   "source": [
    "# Best model is y = x as per errors:\n",
    "print(\"Prediction for y = 6: {}\".format(yhat2(6)))"
   ]
  }
 ],
 "metadata": {
  "kernelspec": {
   "display_name": "Python 3 (ipykernel)",
   "language": "python",
   "name": "python3"
  },
  "language_info": {
   "codemirror_mode": {
    "name": "ipython",
    "version": 3
   },
   "file_extension": ".py",
   "mimetype": "text/x-python",
   "name": "python",
   "nbconvert_exporter": "python",
   "pygments_lexer": "ipython3",
   "version": "3.9.7"
  }
 },
 "nbformat": 4,
 "nbformat_minor": 5
}
