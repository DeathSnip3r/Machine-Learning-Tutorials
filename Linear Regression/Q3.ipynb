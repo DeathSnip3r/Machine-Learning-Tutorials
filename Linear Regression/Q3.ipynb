{
 "cells": [
  {
   "cell_type": "code",
   "execution_count": 1,
   "id": "62cbeed9",
   "metadata": {},
   "outputs": [],
   "source": [
    "import numpy as np\n",
    "import seaborn as sns\n",
    "import matplotlib.pyplot as plt"
   ]
  },
  {
   "cell_type": "code",
   "execution_count": 2,
   "id": "df732c8f",
   "metadata": {},
   "outputs": [],
   "source": [
    "def error_single(x,y,yhat):\n",
    "    value =  0.5 * (yhat(x) - y)**2\n",
    "    return value"
   ]
  },
  {
   "cell_type": "code",
   "execution_count": 3,
   "id": "50dd960f",
   "metadata": {},
   "outputs": [
    {
     "name": "stdout",
     "output_type": "stream",
     "text": [
      "[[1. 1.]\n",
      " [1. 2.]\n",
      " [1. 3.]\n",
      " [1. 4.]\n",
      " [1. 5.]]\n",
      "[-6.4  5.8]\n",
      "7.800000000000001\n"
     ]
    }
   ],
   "source": [
    "x = np.array([1, 2, 3, 4, 5])\n",
    "y = np.array([1, 5, 9, 15, 25])\n",
    "\n",
    "X1 = np.column_stack((np.ones(len(x)), x))\n",
    "print(X1)\n",
    "\n",
    "theta1 = np.dot(np.dot(np.linalg.inv(np.dot(np.transpose(X1),X1)),np.transpose(X1)),y)\n",
    "print(theta1)\n",
    "\n",
    "# Compute Training Error:\n",
    "yhat1 = lambda x: theta1[0] + theta1[1]*x\n",
    "sum = 0\n",
    "for i in range(len(x)):\n",
    "    sum = sum + (yhat1(x[i]) - y[i])**2\n",
    "err1 = sum*0.5\n",
    "print(err1)"
   ]
  },
  {
   "cell_type": "code",
   "execution_count": 4,
   "id": "7ca11cef",
   "metadata": {},
   "outputs": [
    {
     "name": "stdout",
     "output_type": "stream",
     "text": [
      "[[ 1.  1.  1.]\n",
      " [ 1.  2.  4.]\n",
      " [ 1.  3.  9.]\n",
      " [ 1.  4. 16.]\n",
      " [ 1.  5. 25.]]\n",
      "[ 0.6 -0.2  1. ]\n",
      "0.8000000000000009\n"
     ]
    }
   ],
   "source": [
    "x = np.array([1, 2, 3, 4, 5])\n",
    "y = np.array([1, 5, 9, 15, 25])\n",
    "\n",
    "X2 = np.column_stack((np.ones(len(x)), x,x**2))\n",
    "print(X2)\n",
    "\n",
    "theta2 = np.dot(np.dot(np.linalg.inv(np.dot(np.transpose(X2),X2)),np.transpose(X2)),y)\n",
    "print(theta2)\n",
    "\n",
    "# Compute Training Error:\n",
    "yhat2 = lambda x: theta2[0] + theta2[1]*x + theta2[2]*(x**2)\n",
    "sum = 0\n",
    "for i in range(len(x)):\n",
    "    sum = sum + (yhat2(x[i]) - y[i])**2\n",
    "err2 = sum*0.5\n",
    "print(err2)"
   ]
  },
  {
   "cell_type": "code",
   "execution_count": 5,
   "id": "72d2fc9e",
   "metadata": {},
   "outputs": [
    {
     "name": "stdout",
     "output_type": "stream",
     "text": [
      "1399.2049999999972\n",
      "17.40499999999886\n"
     ]
    }
   ],
   "source": [
    "pointTest = np.array([10,104.5])\n",
    "\n",
    "erra = error_single(pointTest[0],pointTest[1],yhat1)\n",
    "print(erra)\n",
    "\n",
    "erra2 = error_single(pointTest[0],pointTest[1],yhat2)\n",
    "print(erra2)\n"
   ]
  },
  {
   "cell_type": "code",
   "execution_count": 6,
   "id": "c20fcf4b",
   "metadata": {},
   "outputs": [
    {
     "name": "stdout",
     "output_type": "stream",
     "text": [
      "[[1.000e+00 1.000e+00 1.000e+00 1.000e+00 1.000e+00 1.000e+00]\n",
      " [1.000e+00 2.000e+00 4.000e+00 8.000e+00 1.600e+01 3.200e+01]\n",
      " [1.000e+00 3.000e+00 9.000e+00 2.700e+01 8.100e+01 2.430e+02]\n",
      " [1.000e+00 4.000e+00 1.600e+01 6.400e+01 2.560e+02 1.024e+03]\n",
      " [1.000e+00 5.000e+00 2.500e+01 1.250e+02 6.250e+02 3.125e+03]]\n",
      "[-1.58882361e+03  1.61652246e+03 -4.88401245e+02  6.05056152e+01\n",
      " -2.45344543e+00  7.25803375e-02]\n",
      "337835.5587819728\n"
     ]
    }
   ],
   "source": [
    "x = np.array([1, 2, 3, 4, 5])\n",
    "y = np.array([1, 5, 9, 15, 25])\n",
    "\n",
    "X3 = np.column_stack((np.ones(len(x)), x,x**2,x**3,x**4,x**5))\n",
    "print(X3)\n",
    "\n",
    "theta3 = np.dot(np.dot(np.linalg.inv(np.dot(np.transpose(X3),X3)),np.transpose(X3)),y)\n",
    "print(theta3)\n",
    "\n",
    "# Compute Training Error:\n",
    "yhat3 = lambda x: theta3[0] + theta3[1]*x + theta3[2]*(x**2) + theta3[3]*(x**3) + theta3[4]*(x**4) + theta3[5]*(x**5)\n",
    "sum = 0\n",
    "for i in range(len(x)):\n",
    "    sum = sum + (yhat3(x[i]) - y[i])**2\n",
    "err3 = sum*0.5\n",
    "print(err3)"
   ]
  },
  {
   "cell_type": "code",
   "execution_count": 7,
   "id": "ae429f75",
   "metadata": {},
   "outputs": [
    {
     "name": "stdout",
     "output_type": "stream",
     "text": [
      "39258404.68663499\n"
     ]
    }
   ],
   "source": [
    "erra3 = error_single(pointTest[0],pointTest[1],yhat3)\n",
    "print(erra3)"
   ]
  },
  {
   "cell_type": "code",
   "execution_count": 8,
   "id": "e94bd702",
   "metadata": {},
   "outputs": [
    {
     "data": {
      "image/png": "[encoded data removed]",
      "text/plain": [
       "<Figure size 432x288 with 1 Axes>"
      ]
     },
     "metadata": {
      "needs_background": "light"
     },
     "output_type": "display_data"
    }
   ],
   "source": [
    "x = np.array([1, 2, 3, 4, 5])\n",
    "y = np.array([1, 5, 9, 15, 25])\n",
    "\n",
    "def yhat1(x):\n",
    "    return theta1[0] + theta1[1]*x\n",
    "\n",
    "def yhat2(x):\n",
    "    return theta2[0] + theta2[1]*x + theta2[2]*(x**2)\n",
    "\n",
    "def yhat3(x):\n",
    "    return theta3[0] + theta3[1]*x + theta3[2]*(x**2) + theta3[3]*(x**3) + theta3[4]*(x**4) + theta3[5]*(x**5)\n",
    "\n",
    "y1 = [yhat1(i) for i in x]\n",
    "y2 = [yhat2(i) for i in x]\n",
    "y3 = [yhat3(i) for i in x]\n",
    "\n",
    "sns.scatterplot(x=x, y=y, label='Data')\n",
    "\n",
    "\n",
    "sns.lineplot(x=x, y=y1, label='y1')\n",
    "sns.lineplot(x=x, y=y2, label='y2')\n",
    "sns.lineplot(x=x, y=y3, label='y3')\n",
    "\n",
    "plt.title('Three Functions')\n",
    "plt.xlabel('x')\n",
    "plt.ylabel('y')\n",
    "plt.ylim([-50,50])\n",
    "\n",
    "plt.show()\n"
   ]
  },
  {
   "cell_type": "code",
   "execution_count": null,
   "id": "e7377353",
   "metadata": {},
   "outputs": [],
   "source": []
  }
 ],
 "metadata": {
  "kernelspec": {
   "display_name": "Python 3 (ipykernel)",
   "language": "python",
   "name": "python3"
  },
  "language_info": {
   "codemirror_mode": {
    "name": "ipython",
    "version": 3
   },
   "file_extension": ".py",
   "mimetype": "text/x-python",
   "name": "python",
   "nbconvert_exporter": "python",
   "pygments_lexer": "ipython3",
   "version": "3.9.7"
  }
 },
 "nbformat": 4,
 "nbformat_minor": 5
}
