{
 "cells": [
  {
   "cell_type": "code",
   "execution_count": 7,
   "metadata": {},
   "outputs": [
    {
     "ename": "FileNotFoundError",
     "evalue": "[Errno 2] No such file or directory: 'hp_books\\\\book1.txt'",
     "output_type": "error",
     "traceback": [
      "\u001b[1;31m---------------------------------------------------------------------------\u001b[0m",
      "\u001b[1;31mFileNotFoundError\u001b[0m                         Traceback (most recent call last)",
      "\u001b[1;32mi:\\.COMS3007A - Machine Learning\\Tutorials\\Machine-Learning-Tutorials\\Machine-Learning-Tutorials\\Naive Bayes\\Q4\\verushan_modified.ipynb Cell 1\u001b[0m in \u001b[0;36m<cell line: 17>\u001b[1;34m()\u001b[0m\n\u001b[0;32m     <a href='vscode-notebook-cell:/i%3A/.COMS3007A%20-%20Machine%20Learning/Tutorials/Machine-Learning-Tutorials/Machine-Learning-Tutorials/Naive%20Bayes/Q4/verushan_modified.ipynb#W1sZmlsZQ%3D%3D?line=16'>17</a>\u001b[0m \u001b[39mfor\u001b[39;00m book_name \u001b[39min\u001b[39;00m book_names:\n\u001b[0;32m     <a href='vscode-notebook-cell:/i%3A/.COMS3007A%20-%20Machine%20Learning/Tutorials/Machine-Learning-Tutorials/Machine-Learning-Tutorials/Naive%20Bayes/Q4/verushan_modified.ipynb#W1sZmlsZQ%3D%3D?line=17'>18</a>\u001b[0m     book_path \u001b[39m=\u001b[39m os\u001b[39m.\u001b[39mpath\u001b[39m.\u001b[39mjoin(hp_dir, book_name \u001b[39m+\u001b[39m \u001b[39m\"\u001b[39m\u001b[39m.txt\u001b[39m\u001b[39m\"\u001b[39m)\n\u001b[1;32m---> <a href='vscode-notebook-cell:/i%3A/.COMS3007A%20-%20Machine%20Learning/Tutorials/Machine-Learning-Tutorials/Machine-Learning-Tutorials/Naive%20Bayes/Q4/verushan_modified.ipynb#W1sZmlsZQ%3D%3D?line=18'>19</a>\u001b[0m     \u001b[39mwith\u001b[39;00m \u001b[39mopen\u001b[39;49m(book_path, \u001b[39m\"\u001b[39;49m\u001b[39mr\u001b[39;49m\u001b[39m\"\u001b[39;49m, encoding\u001b[39m=\u001b[39;49m\u001b[39m\"\u001b[39;49m\u001b[39mutf8\u001b[39;49m\u001b[39m\"\u001b[39;49m) \u001b[39mas\u001b[39;00m f:\n\u001b[0;32m     <a href='vscode-notebook-cell:/i%3A/.COMS3007A%20-%20Machine%20Learning/Tutorials/Machine-Learning-Tutorials/Machine-Learning-Tutorials/Naive%20Bayes/Q4/verushan_modified.ipynb#W1sZmlsZQ%3D%3D?line=19'>20</a>\u001b[0m         \u001b[39mfor\u001b[39;00m line \u001b[39min\u001b[39;00m f:\n\u001b[0;32m     <a href='vscode-notebook-cell:/i%3A/.COMS3007A%20-%20Machine%20Learning/Tutorials/Machine-Learning-Tutorials/Machine-Learning-Tutorials/Naive%20Bayes/Q4/verushan_modified.ipynb#W1sZmlsZQ%3D%3D?line=20'>21</a>\u001b[0m             data[book_name]\u001b[39m.\u001b[39mappend(line\u001b[39m.\u001b[39mstrip())\n",
      "\u001b[1;31mFileNotFoundError\u001b[0m: [Errno 2] No such file or directory: 'hp_books\\\\book1.txt'"
     ]
    }
   ],
   "source": [
    "#just experimental to try to use existing ml libraries, doesnt actually work\n",
    "import numpy as np\n",
    "import pandas as pd\n",
    "from sklearn.naive_bayes import BernoulliNB\n",
    "from sklearn.model_selection import train_test_split\n",
    "from sklearn.preprocessing import StandardScaler, OneHotEncoder\n",
    "from sklearn.compose import ColumnTransformer\n",
    "from sklearn.metrics import accuracy_score, confusion_matrix\n",
    "\n",
    "numBooks = 7\n",
    "bookWords = np.array([], dtype=np.str)\n",
    "\n",
    "for bookIndex in range(numBooks):\n",
    "    bookName = \"HP\" + str(bookIndex+1) + \".txt\" \n",
    "    with open(bookName, \"r\") as tFile:\n",
    "        for line in tFile.readlines():\n",
    "            words = np.array(line.split())\n",
    "            bookWords = np.concatenate((bookWords, words))\n",
    "\n",
    "# convert to dataframe\n",
    "data = pd.DataFrame(bookWords.reshape(-1, 65))\n",
    "\n",
    "# split data into X and y\n",
    "X = data.iloc[:, :-1]\n",
    "y = data.iloc[:, -1]\n",
    "\n",
    "# one-hot encode categorical variables\n",
    "ct = ColumnTransformer(transformers=[('encoder', OneHotEncoder(), [0, 1, 2, 3, 4])], remainder='passthrough')\n",
    "X = ct.fit_transform(X)\n",
    "\n",
    "# split data into train and test sets\n",
    "xTrain, xTest, yTrain, yTest = train_test_split(X, y, test_size=0.8, random_state=0)\n",
    "\n",
    "# standardize features\n",
    "sc_X = StandardScaler()\n",
    "xTrain = sc_X.fit_transform(xTrain)\n",
    "xTest = sc_X.transform(xTest)\n",
    "\n",
    "# initialize the NB\n",
    "classifier = BernoulliNB()\n",
    "\n",
    "# train the model\n",
    "classifier.fit(xTrain, yTrain)\n",
    "\n",
    "# test the model\n",
    "yPred = classifier.predict(xTest)\n",
    "\n",
    "print(\"Confusion Matrix\")\n",
    "print(confusion_matrix(yTest, yPred))\n",
    "\n",
    "print(round(accuracy_score(yPred, yTest) * 100, 4), \"%\\n\")\n"
   ]
  }
 ],
 "metadata": {
  "kernelspec": {
   "display_name": "base",
   "language": "python",
   "name": "python3"
  },
  "language_info": {
   "codemirror_mode": {
    "name": "ipython",
    "version": 3
   },
   "file_extension": ".py",
   "mimetype": "text/x-python",
   "name": "python",
   "nbconvert_exporter": "python",
   "pygments_lexer": "ipython3",
   "version": "3.9.12"
  },
  "orig_nbformat": 4
 },
 "nbformat": 4,
 "nbformat_minor": 2
}
