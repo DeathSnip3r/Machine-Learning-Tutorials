{
 "cells": [
  {
   "cell_type": "code",
   "execution_count": null,
   "metadata": {},
   "outputs": [],
   "source": [
    "# Imports\n",
    "\n",
    "import numpy as np\n",
    "import matplotlib.pyplot as plt\n",
    "from scipy.stats import multivariate_normal"
   ]
  },
  {
   "cell_type": "code",
   "execution_count": null,
   "metadata": {},
   "outputs": [],
   "source": [
    "# Define two 2D Gaussian distributions: one with a center at (1,-1) and the other at (-1,1). Let them both have variances of 1 in each dimension. We'll treat these as the generators of data from classes 0 and 1, respectively\n",
    "\n",
    "mu0 = np.array([1,-1])\n",
    "mu1 = np.array([-1,1])\n",
    "sigma = np.eye(2)"
   ]
  },
  {
   "cell_type": "code",
   "execution_count": null,
   "metadata": {},
   "outputs": [],
   "source": [
    "# Draw 20 data points from each distribution (use the randn function in Matlab or Python). Plot the points from each class in a different color\n",
    "\n",
    "N = 20\n",
    "X0 = np.random.multivariate_normal(mu0, sigma, N)\n",
    "X1 = np.random.multivariate_normal(mu1, sigma, N)\n",
    "\n",
    "plt.scatter(X0[:,0], X0[:,1], color='red')\n",
    "plt.scatter(X1[:,0], X1[:,1], color='blue')\n",
    "plt.show()\n",
    "\n",
    "# Q: How easily separable are these classes?\n",
    "# A: Not very easily separable. There is a lot of overlap between the two classes."
   ]
  },
  {
   "cell_type": "code",
   "execution_count": null,
   "metadata": {},
   "outputs": [],
   "source": [
    "# Repeat the process above with variances of 3\n",
    "\n",
    "sigma = 3*np.eye(2)\n",
    "X0 = np.random.multivariate_normal(mu0, sigma, N)\n",
    "X1 = np.random.multivariate_normal(mu1, sigma, N)\n",
    "\n",
    "plt.scatter(X0[:,0], X0[:,1], color='red')\n",
    "plt.scatter(X1[:,0], X1[:,1], color='blue')\n",
    "plt.show()\n",
    "\n",
    "# Q: How separable is this data?\n",
    "# A: This data is much more separable than the previous data. There is a clear separation between the two classes."
   ]
  },
  {
   "cell_type": "code",
   "execution_count": null,
   "metadata": {},
   "outputs": [],
   "source": [
    "# Repeat the process, with different randomly generated means and variances\n",
    "\n",
    "mu0 = np.random.randn(2)\n",
    "mu1 = np.random.randn(2)\n",
    "sigma = np.random.randn(2,2)\n",
    "sigma = np.dot(sigma, sigma.T)\n",
    "X0 = np.random.multivariate_normal(mu0, sigma, N)\n",
    "X1 = np.random.multivariate_normal(mu1, sigma, N)\n",
    "\n",
    "print(mu0)\n",
    "print(mu1)\n",
    "print(sigma)\n",
    "\n",
    "plt.scatter(X0[:,0], X0[:,1], color='red')\n",
    "plt.scatter(X1[:,0], X1[:,1], color='blue')\n",
    "plt.show()\n",
    "\n",
    "# Q: Which datasets do you expect to be easier to classify?\n",
    "# A: ?"
   ]
  }
 ],
 "metadata": {
  "kernelspec": {
   "display_name": "Python 3",
   "language": "python",
   "name": "python3"
  },
  "language_info": {
   "codemirror_mode": {
    "name": "ipython",
    "version": 3
   },
   "file_extension": ".py",
   "mimetype": "text/x-python",
   "name": "python",
   "nbconvert_exporter": "python",
   "pygments_lexer": "ipython3",
   "version": "3.8.10"
  },
  "orig_nbformat": 4
 },
 "nbformat": 4,
 "nbformat_minor": 2
}
