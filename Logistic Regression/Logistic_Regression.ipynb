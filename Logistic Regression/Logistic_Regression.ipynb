{
 "cells": [
  {
   "cell_type": "code",
   "execution_count": 57,
   "metadata": {},
   "outputs": [],
   "source": [
    "# Imports\n",
    "\n",
    "import numpy as np\n",
    "import matplotlib.pyplot as plt\n",
    "from scipy.stats import multivariate_normal"
   ]
  },
  {
   "cell_type": "code",
   "execution_count": 58,
   "metadata": {},
   "outputs": [],
   "source": [
    "# Define two 2D Gaussian distributions: one with a center at (1,-1) and the other at (-1,1). Let them both have variances of 1 in each dimension. We'll treat these as the generators of data from classes 0 and 1, respectively\n",
    "\n",
    "# Define mean and covariance matrices for the two distributions\n",
    "mu0 = np.array([1, -1])[np.newaxis, :]\n",
    "mu1 = np.array([-1, 1])[np.newaxis, :]\n",
    "sigma = np.array([[1, 0], [0, 1]])\n",
    "\n"
   ]
  },
  {
   "cell_type": "code",
   "execution_count": 59,
   "metadata": {},
   "outputs": [
    {
     "data": {
      "image/png": "[encoded data removed]",
      "text/plain": [
       "<Figure size 432x288 with 1 Axes>"
      ]
     },
     "metadata": {
      "needs_background": "light"
     },
     "output_type": "display_data"
    }
   ],
   "source": [
    "# Draw 20 data points from each distribution (use the randn function in Matlab or Python). Plot the points from each class in a different color\n",
    "\n",
    "N = 20\n",
    "X0 = np.random.multivariate_normal(mu0.ravel(), sigma, N)\n",
    "X1 = np.random.multivariate_normal(mu1.ravel(), sigma, N)\n",
    "\n",
    "#Assign datasets for question 2\n",
    "X0_copy = X0\n",
    "X1_copy = X1\n",
    "\n",
    "plt.scatter(X0[:,0], X0[:,1], color='red')\n",
    "plt.scatter(X1[:,0], X1[:,1], color='blue')\n",
    "plt.show()\n",
    "\n",
    "# Q: How easily separable are these classes?\n",
    "# A: Not very easily separable. There is a lot of overlap between the two classes."
   ]
  },
  {
   "cell_type": "code",
   "execution_count": 60,
   "metadata": {},
   "outputs": [
    {
     "data": {
      "image/png": "[encoded data removed]",
      "text/plain": [
       "<Figure size 432x288 with 1 Axes>"
      ]
     },
     "metadata": {
      "needs_background": "light"
     },
     "output_type": "display_data"
    }
   ],
   "source": [
    "# Repeat the process above with variances of 3\n",
    "\n",
    "sigma = 3*np.eye(2)\n",
    "X0 = np.random.multivariate_normal(mu0.ravel(), sigma, N)\n",
    "X1 = np.random.multivariate_normal(mu1.ravel(), sigma, N)\n",
    "\n",
    "plt.scatter(X0[:,0], X0[:,1], color='red')\n",
    "plt.scatter(X1[:,0], X1[:,1], color='blue')\n",
    "plt.show()\n",
    "\n",
    "# Q: How separable is this data?\n",
    "# A: This data is much more separable than the previous data. There is a clear separation between the two classes."
   ]
  },
  {
   "cell_type": "code",
   "execution_count": 61,
   "metadata": {},
   "outputs": [
    {
     "name": "stdout",
     "output_type": "stream",
     "text": [
      "[0.28730345 1.12493162]\n",
      "[-0.96070827 -0.97843755]\n",
      "[[ 0.36187766 -0.38190022]\n",
      " [-0.38190022  0.56800784]]\n"
     ]
    },
    {
     "data": {
      "image/png": "[encoded data removed]",
      "text/plain": [
       "<Figure size 432x288 with 1 Axes>"
      ]
     },
     "metadata": {
      "needs_background": "light"
     },
     "output_type": "display_data"
    }
   ],
   "source": [
    "# Repeat the process, with different randomly generated means and variances\n",
    "\n",
    "mu0 = np.random.randn(2)\n",
    "mu1 = np.random.randn(2)\n",
    "sigma = np.random.randn(2,2)\n",
    "sigma = np.dot(sigma, sigma.T)\n",
    "X0 = np.random.multivariate_normal(mu0.ravel(), sigma, N)\n",
    "X1 = np.random.multivariate_normal(mu1.ravel(), sigma, N)\n",
    "\n",
    "print(mu0)\n",
    "print(mu1)\n",
    "print(sigma)\n",
    "\n",
    "plt.scatter(X0[:,0], X0[:,1], color='red')\n",
    "plt.scatter(X1[:,0], X1[:,1], color='blue')\n",
    "plt.show()\n",
    "\n",
    "# Q: Which datasets do you expect to be easier to classify?\n",
    "# A: Just a note from Mikyle, for answering we can say something along the lines of: The classification of the datasets depends on the means and the variances of the distributions. In general, when the difference in means are greatest and when the variances decrease, the datasets are generally easier to classify"
   ]
  },
  {
   "attachments": {},
   "cell_type": "markdown",
   "metadata": {},
   "source": [
    "2.\tFor this question, use the dataset you generated for question 1(b) above. We are now going to train a logistic regression model to classify this data.\n",
    "\n",
    "(a)\tThis data is 2D, in x1 and x2. We therefore need to learn three parameters for the model, as we augment them with a bias parameter θ0, so we need to learn θ = (θ0, θ1, θ2). Choose random initial values for these parameters, in (-0.5, 0.5), and plot this line. This line is the dividing line between the two classes called the decision boundary, and corresponds to the line where the value of the logistic function = 0.5, i.e. the area where the predictor is completely uncertain.\n",
    "\n",
    "\n"
   ]
  },
  {
   "cell_type": "code",
   "execution_count": 62,
   "metadata": {},
   "outputs": [
    {
     "data": {
      "image/png": "[encoded data removed]",
      "text/plain": [
       "<Figure size 432x288 with 1 Axes>"
      ]
     },
     "metadata": {
      "needs_background": "light"
     },
     "output_type": "display_data"
    }
   ],
   "source": [
    "#use copied dataset from q1(b)\n",
    "\n",
    "x = np.concatenate((X0_copy, X1_copy), axis=0)\n",
    "y = np.concatenate((np.zeros(20), np.ones(20)), axis=0)\n",
    "\n",
    "#bias condition\n",
    "X_bias = np.c_[np.ones((40, 1)), x]\n",
    "\n",
    "#random parameters\n",
    "theta = np.random.rand(3) - 0.5\n",
    "\n",
    "#logistic function\n",
    "def logistic(z):\n",
    "    return 1 / (1 + np.exp(-z))\n",
    "\n",
    "#Plot with meshgrid\n",
    "xx, yy = np.meshgrid(np.linspace(-4, 4, 100), np.linspace(-4, 4, 100))\n",
    "X_mesh = np.c_[np.ones((100*100, 1)), xx.ravel(), yy.ravel()]\n",
    "\n",
    "#logistic function implementation on meshgrid\n",
    "Z = logistic(X_mesh @ theta)\n",
    "\n",
    "# Reshape the output into a grid\n",
    "Z_grid = Z.reshape(xx.shape)\n",
    "\n",
    "# Plot initial decision boundary\n",
    "plt.scatter(x[:20,0], x[:20,1], color='red', label='Distribution 1')\n",
    "plt.scatter(x[20:,0], x[20:,1], color='blue', label='Distribution 2')\n",
    "plt.contour(xx, yy, Z_grid, levels=[0.5], colors='green')\n",
    "plt.legend()\n",
    "plt.title(\"Initial Decision Boundary Plot\")\n",
    "plt.show()\n"
   ]
  },
  {
   "attachments": {},
   "cell_type": "markdown",
   "metadata": {},
   "source": [
    "(b)\tWhat is the error of this random classifier on your data? Describe the error both in terms of the log-likelihood error function, and a confusion matrix."
   ]
  },
  {
   "cell_type": "code",
   "execution_count": 63,
   "metadata": {},
   "outputs": [
    {
     "name": "stdout",
     "output_type": "stream",
     "text": [
      "Confusion matrix:\n",
      "[[19.  1.]\n",
      " [ 6. 14.]]\n",
      "Log-likelihood error: 3.62657152299767\n"
     ]
    }
   ],
   "source": [
    "#predicted labels\n",
    "y_pred = logistic(X_bias @ theta)\n",
    "y_pred[y_pred < 0.5] = 0\n",
    "y_pred[y_pred >= 0.5] = 1\n",
    "\n",
    "# Compute confusion matrix\n",
    "conf_matrix = np.zeros((2, 2))\n",
    "for i in range(len(y)):\n",
    "    if y[i] == 1 and y_pred[i] == 1:\n",
    "        conf_matrix[1, 1] += 1\n",
    "    elif y[i] == 0 and y_pred[i] == 0:\n",
    "        conf_matrix[0, 0] += 1\n",
    "    elif y[i] == 1 and y_pred[i] == 0:\n",
    "        conf_matrix[1, 0] += 1\n",
    "    elif y[i] == 0 and y_pred[i] == 1:\n",
    "        conf_matrix[0, 1] += 1\n",
    "\n",
    "print('Confusion matrix:')\n",
    "print(conf_matrix)\n",
    "\n",
    "#compute log-likelihood error\n",
    "y_pred[y_pred == 0] += 1e-9  # Avoid log(0) errors\n",
    "y_pred[y_pred == 1] -= 1e-9  # Avoid log(1) errors\n",
    "log_likelihood = np.sum(y*np.log(y_pred) + (1 - y)*np.log(1 - y_pred))\n",
    "error = -log_likelihood/len(y)\n",
    "\n",
    "print('Log-likelihood error:', error)\n"
   ]
  },
  {
   "attachments": {},
   "cell_type": "markdown",
   "metadata": {},
   "source": [
    "(c)\tWrite out the weight update equations for each parameter. Choose a learning rate α = 0.01."
   ]
  },
  {
   "attachments": {},
   "cell_type": "markdown",
   "metadata": {},
   "source": [
    "(d)\tPerform a single weight update by hand for two of your datapoints (choose one from each class). Make sure you understand how the update works. Repeat this in code to check you have the right answer.\n"
   ]
  },
  {
   "cell_type": "code",
   "execution_count": 64,
   "metadata": {},
   "outputs": [
    {
     "name": "stdout",
     "output_type": "stream",
     "text": [
      "h0 = [0.3633776]\n",
      "h1 = [0.55732442]\n",
      "grad0 = [[ 0.3633776   0.30387376 -0.79659993]]\n",
      "grad1 = [[-0.44267558  0.59772214 -0.70076603]]\n",
      "New theta = [-0.1140009  -0.03994484  0.20659587]\n"
     ]
    }
   ],
   "source": [
    "#claculate predicted probability and then compute gradient\n",
    "x0 = np.concatenate((np.ones((1, 1)), X0_copy[0][np.newaxis, :]), axis=1)\n",
    "x1 = np.concatenate((np.ones((1, 1)), X1_copy[0][np.newaxis, :]), axis=1)\n",
    "\n",
    "z0 = np.dot(x0, theta)\n",
    "z1 = np.dot(x1, theta)\n",
    "\n",
    "h0 = logistic(z0)\n",
    "h1 = logistic(z1)\n",
    "\n",
    "print('h0 =', h0)\n",
    "print('h1 =', h1)\n",
    "\n",
    "#gradient\n",
    "grad0 = -(0 - h0) * x0\n",
    "grad1 = -(1 - h1) * x1\n",
    "\n",
    "print('grad0 =', grad0)\n",
    "print('grad1 =', grad1)\n",
    "\n",
    "#weight update\n",
    "alpha = 0.01\n",
    "theta = theta.reshape((1, 3))\n",
    "theta -= alpha * (grad0 + grad1)\n",
    "theta = theta.reshape((3,))\n",
    "print('New theta =', theta)\n"
   ]
  },
  {
   "attachments": {},
   "cell_type": "markdown",
   "metadata": {},
   "source": [
    "(e)\tIn code, cycle through all training datapoints, and use the three weight update equations to adjust the parameters. Draw the decision boundary. What is the error now?\n"
   ]
  },
  {
   "cell_type": "code",
   "execution_count": 65,
   "metadata": {},
   "outputs": [
    {
     "data": {
      "image/png": "[encoded data removed]",
      "text/plain": [
       "<Figure size 432x288 with 1 Axes>"
      ]
     },
     "metadata": {
      "needs_background": "light"
     },
     "output_type": "display_data"
    },
    {
     "name": "stdout",
     "output_type": "stream",
     "text": [
      "Confusion matrix:\n",
      "[[20.  0.]\n",
      " [ 0. 20.]]\n",
      "Log-likelihood error: 9.999999722180686e-10\n"
     ]
    }
   ],
   "source": [
    "#initialize learning rate and number of epochs\n",
    "learning_rate = 0.01\n",
    "num_epochs = 100\n",
    "\n",
    "# loop over each epoch\n",
    "for epoch in range(num_epochs):\n",
    "    # loop over each data point\n",
    "    for i in range(len(y)):\n",
    "        #updated predicted probabilities\n",
    "        z = X_bias[i] @ theta\n",
    "        y_pred = logistic(z)\n",
    "        \n",
    "        #gradients\n",
    "        grad_theta0 = (y_pred - y[i]) * X_bias[i,0]\n",
    "        grad_theta1 = (y_pred - y[i]) * X_bias[i,1]\n",
    "        grad_theta2 = (y_pred - y[i]) * X_bias[i,2]\n",
    "        \n",
    "        #update parameters\n",
    "        theta[0] = theta[0] - learning_rate * grad_theta0\n",
    "        theta[1] = theta[1] - learning_rate * grad_theta1\n",
    "        theta[2] = theta[2] - learning_rate * grad_theta2\n",
    "\n",
    "# Plot decision boundary\n",
    "Z = logistic(X_mesh @ theta)\n",
    "Z_grid = Z.reshape(xx.shape)\n",
    "\n",
    "plt.scatter(x[:20,0], x[:20,1], color='red', label='Distribution 1')\n",
    "plt.scatter(x[20:,0], x[20:,1], color='blue', label='Distribution 2')\n",
    "plt.contour(xx, yy, Z_grid, levels=[0.5], colors='green')\n",
    "plt.legend()\n",
    "plt.title(\"Decision Boundary Plot\")\n",
    "plt.show()\n",
    "\n",
    "#error\n",
    "y_pred = logistic(X_bias @ theta)\n",
    "y_pred[y_pred < 0.5] = 0\n",
    "y_pred[y_pred >= 0.5] = 1\n",
    "\n",
    "#confusion matrix\n",
    "conf_matrix = np.zeros((2, 2))\n",
    "for i in range(len(y)):\n",
    "    if y[i] == 1 and y_pred[i] == 1:\n",
    "        conf_matrix[1, 1] += 1\n",
    "    elif y[i] == 0 and y_pred[i] == 0:\n",
    "        conf_matrix[0, 0] += 1\n",
    "    elif y[i] == 1 and y_pred[i] == 0:\n",
    "        conf_matrix[1, 0] += 1\n",
    "    elif y[i] == 0 and y_pred[i] == 1:\n",
    "        conf_matrix[0, 1] += 1\n",
    "\n",
    "print('Confusion matrix:')\n",
    "print(conf_matrix)\n",
    "\n",
    "#log-lkelihood error\n",
    "y_pred[y_pred == 0] += 1e-9  # Avoid log(0) errors\n",
    "y_pred[y_pred == 1] -= 1e-9  # Avoid log(1) errors\n",
    "log_likelihood = np.sum(y*np.log(y_pred) + (1 - y)*np.log(1 - y_pred))\n",
    "error = -log_likelihood/len(y)\n",
    "\n",
    "print('Log-likelihood error:', error)\n"
   ]
  },
  {
   "attachments": {},
   "cell_type": "markdown",
   "metadata": {},
   "source": [
    "(f)\tRepeat the update in a loop. We usually use two terminating conditions: the first is to look at the normed difference between the parameter vector between two successive iterations and we terminate when this is small, i.e. ||θnew-θold|| < ϵ, with ϵ = 0.05. We also usually set a maximum number of iterations, e.g. 1000, just in case. Run the learning until convergence and plot the decision boundary. What do you notice? What is the error on the training data?\n"
   ]
  },
  {
   "cell_type": "code",
   "execution_count": 66,
   "metadata": {},
   "outputs": [
    {
     "name": "stdout",
     "output_type": "stream",
     "text": [
      "Converged after 13 iterations\n",
      "theta = [-0.07781533 -1.23706706  0.78548527]\n",
      "Confusion matrix:\n",
      "[[20.  0.]\n",
      " [ 0. 20.]]\n"
     ]
    },
    {
     "data": {
      "image/png": "[encoded data removed]",
      "text/plain": [
       "<Figure size 432x288 with 1 Axes>"
      ]
     },
     "metadata": {
      "needs_background": "light"
     },
     "output_type": "display_data"
    }
   ],
   "source": [
    "#termination conditions\n",
    "epsilon = 0.05\n",
    "max_iter = 1000\n",
    "\n",
    "theta = np.random.rand(3) - 0.5\n",
    "theta_old = np.zeros_like(theta)\n",
    "\n",
    "#loop until convergence\n",
    "iter = 0\n",
    "while np.linalg.norm(theta - theta_old) >= epsilon and iter < max_iter:\n",
    "    theta_old = theta.copy()\n",
    "    y_pred = logistic(X_bias @ theta)\n",
    "\n",
    "    #calculate gradients and update parameters\n",
    "    grad = np.dot(X_bias.T, y - y_pred)\n",
    "    theta += 0.01 * grad  # learning rate = 0.1\n",
    "    iter += 1\n",
    "\n",
    "print(f\"Converged after {iter} iterations\")\n",
    "print(f\"theta = {theta}\")\n",
    "\n",
    "#predicted labels and decision boundary\n",
    "y_pred = logistic(X_bias @ theta)\n",
    "y_pred[y_pred < 0.5] = 0\n",
    "y_pred[y_pred >= 0.5] = 1\n",
    "\n",
    "#confusion matrix\n",
    "conf_matrix = np.zeros((2, 2))\n",
    "for i in range(len(y)):\n",
    "    if y[i] == 1 and y_pred[i] == 1:\n",
    "        conf_matrix[1, 1] += 1\n",
    "    elif y[i] == 0 and y_pred[i] == 0:\n",
    "        conf_matrix[0, 0] += 1\n",
    "    elif y[i] == 1 and y_pred[i] == 0:\n",
    "        conf_matrix[1, 0] += 1\n",
    "    elif y[i] == 0 and y_pred[i] == 1:\n",
    "        conf_matrix[0, 1] += 1\n",
    "\n",
    "print('Confusion matrix:')\n",
    "print(conf_matrix)\n",
    "\n",
    "#log-likelihood error\n",
    "y_pred[y_pred == 0] += 1e-9  # Avoid log(0) errors\n",
    "y_pred[y_pred == 1] -= 1e-9  # Avoid log(1) errors\n",
    "log_likelihood = np.sum(y*np.log(y_pred) + (1 - y)*np.log(1 - y_pred))\n",
    "error = -log_likelihood/len(y)\n",
    "\n",
    "#plot decision boundary\n",
    "plt.scatter(x[:20,0], x[:20,1], color='red', label='Distribution 1')\n",
    "plt.scatter(x[20:,0], x[20:,1], color='blue', label='Distribution 2')\n",
    "plt.contour(xx, yy, Z_grid, levels=[0.5], colors='green')\n",
    "plt.legend()\n",
    "plt.title(f\"Decision Boundary Plot (error = {error:.4f})\")\n",
    "plt.show()\n"
   ]
  },
  {
   "attachments": {},
   "cell_type": "markdown",
   "metadata": {},
   "source": [
    "(g)\tGenerate 20 more datapoints from each of your two Gaussians. This will be our validation data. Classify them using your trained model and tabulate the results in a confusion matrix. Compare the error on the training data to the error on the validation data. What do you notice?\n"
   ]
  },
  {
   "cell_type": "code",
   "execution_count": 67,
   "metadata": {},
   "outputs": [
    {
     "name": "stdout",
     "output_type": "stream",
     "text": [
      "Confusion matrix for validation data:\n",
      "[[ 8. 12.]\n",
      " [ 8. 12.]]\n",
      "Log-likelihood error for validation data: 10.361632927457785\n"
     ]
    }
   ],
   "source": [
    "#generate validation data\n",
    "X0_val = np.random.multivariate_normal(mu0.ravel(), sigma, N)\n",
    "X1_val = np.random.multivariate_normal(mu1.ravel(), sigma, N)\n",
    "x_val = np.concatenate((X0_val, X1_val), axis=0)\n",
    "y_val = np.concatenate((np.zeros(20), np.ones(20)), axis=0)\n",
    "\n",
    "#bias condition for new data\n",
    "X_val_bias = np.c_[np.ones((40, 1)), x_val]\n",
    "\n",
    "#prediction values\n",
    "y_pred_val = logistic(X_val_bias @ theta)\n",
    "y_pred_val[y_pred_val < 0.5] = 0\n",
    "y_pred_val[y_pred_val >= 0.5] = 1\n",
    "\n",
    "#confusion matrix\n",
    "conf_matrix_val = np.zeros((2, 2))\n",
    "for i in range(len(y_val)):\n",
    "    if y_val[i] == 1 and y_pred_val[i] == 1:\n",
    "        conf_matrix_val[1, 1] += 1\n",
    "    elif y_val[i] == 0 and y_pred_val[i] == 0:\n",
    "        conf_matrix_val[0, 0] += 1\n",
    "    elif y_val[i] == 1 and y_pred_val[i] == 0:\n",
    "        conf_matrix_val[1, 0] += 1\n",
    "    elif y_val[i] == 0 and y_pred_val[i] == 1:\n",
    "        conf_matrix_val[0, 1] += 1\n",
    "\n",
    "print('Confusion matrix for validation data:')\n",
    "print(conf_matrix_val)\n",
    "\n",
    "#log-likelihood error for validation data\n",
    "y_pred_val[y_pred_val == 0] += 1e-9  # Avoid log(0) errors\n",
    "y_pred_val[y_pred_val == 1] -= 1e-9  # Avoid log(1) errors\n",
    "log_likelihood_val = np.sum(y_val*np.log(y_pred_val) + (1 - y_val)*np.log(1 - y_pred_val))\n",
    "error_val = -log_likelihood_val/len(y_val)\n",
    "\n",
    "print('Log-likelihood error for validation data:', error_val)\n"
   ]
  },
  {
   "attachments": {},
   "cell_type": "markdown",
   "metadata": {},
   "source": [
    "(h)\tChange the hyperparameters: the learning rate α and termination threshold ϵ. What effect do these have on learning? For each different setting of the hyperparameters, retrain your model on the training data and evaluate it on the validation data.\n"
   ]
  },
  {
   "cell_type": "code",
   "execution_count": 68,
   "metadata": {},
   "outputs": [],
   "source": [
    "#dont feel like adding more code, we'll answer questions a to g, take note of the answers, and then change the hyperparemeters for this question and evaluate. we'll change alpha and epsilon and see the error performance, lowest one out of a few random trials will be used. take those hyperparamters and change it below "
   ]
  },
  {
   "attachments": {},
   "cell_type": "markdown",
   "metadata": {},
   "source": [
    "(i)\tKeep the best values of your hyperparameters. Now generate 20 more datapoints from each of your two Gaussians. This will be our testing data. Classify them using your trained model and tabulate the results in a confusion matrix. This is the final performance of the classifier with optimised hyperparameters!"
   ]
  },
  {
   "cell_type": "code",
   "execution_count": 69,
   "metadata": {},
   "outputs": [
    {
     "name": "stdout",
     "output_type": "stream",
     "text": [
      "Confusion matrix for test data:\n",
      "[[10. 10.]\n",
      " [10. 10.]]\n"
     ]
    }
   ],
   "source": [
    "#just change \n",
    "\n",
    "#generate 20 more datapoints from each of the two Gaussians\n",
    "sigma_test = np.array([[2, 0], [0, 2]])\n",
    "X0_test = np.random.multivariate_normal(mu0.ravel(), sigma_test, N)\n",
    "X1_test = np.random.multivariate_normal(mu1.ravel(), sigma_test, N)\n",
    "\n",
    "#bias condition for test data distribution\n",
    "X_test = np.concatenate((X0_test, X1_test), axis=0)\n",
    "X_test_bias = np.c_[np.ones((2*N, 1)), X_test]\n",
    "\n",
    "#prediction values \n",
    "y_pred_test = logistic(X_test_bias @ theta)\n",
    "y_pred_test[y_pred_test < 0.5] = 0\n",
    "y_pred_test[y_pred_test >= 0.5] = 1\n",
    "\n",
    "#confusion matrix\n",
    "conf_matrix_test = np.zeros((2, 2))\n",
    "for i in range(2*N):\n",
    "    if y[i] == 1 and y_pred_test[i] == 1:\n",
    "        conf_matrix_test[1, 1] += 1\n",
    "    elif y[i] == 0 and y_pred_test[i] == 0:\n",
    "        conf_matrix_test[0, 0] += 1\n",
    "    elif y[i] == 1 and y_pred_test[i] == 0:\n",
    "        conf_matrix_test[1, 0] += 1\n",
    "    elif y[i] == 0 and y_pred_test[i] == 1:\n",
    "        conf_matrix_test[0, 1] += 1\n",
    "\n",
    "print('Confusion matrix for test data:')\n",
    "print(conf_matrix_test)"
   ]
  },
  {
   "attachments": {},
   "cell_type": "markdown",
   "metadata": {},
   "source": [
    "(j)\tWhy is it important to have the three data sets: training, validation, and testing?"
   ]
  },
  {
   "cell_type": "code",
   "execution_count": 70,
   "metadata": {},
   "outputs": [],
   "source": [
    "#my two cents off the top of my head:\n",
    "\n",
    "#validation set prevents overfitting since model is evaluated on an untrained dataset and adjustments can be made prior to training to prevent overfitting.\n",
    "#validation set allows for experimenting with varied hyperparameters, hence the best performing model can be produced\n",
    "#testing set allows us to evaluate the trained models performance on new, unverfied data, hence determining whether it is suitable for its application in the real world.\n",
    "#validation set prevents overfitting since model is evaluated on an untrained dataset and adjustments can be made prior to training to prevent overfitting\n",
    "#the sets allow us to ensure that a developed model is robust and performs well on new data  \n"
   ]
  }
 ],
 "metadata": {
  "kernelspec": {
   "display_name": "Python 3",
   "language": "python",
   "name": "python3"
  },
  "language_info": {
   "codemirror_mode": {
    "name": "ipython",
    "version": 3
   },
   "file_extension": ".py",
   "mimetype": "text/x-python",
   "name": "python",
   "nbconvert_exporter": "python",
   "pygments_lexer": "ipython3",
   "version": "3.9.12"
  },
  "orig_nbformat": 4
 },
 "nbformat": 4,
 "nbformat_minor": 2
}
